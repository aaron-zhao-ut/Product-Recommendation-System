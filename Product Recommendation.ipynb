{
 "cells": [
  {
   "cell_type": "markdown",
   "metadata": {},
   "source": [
    "#### 1. Import Data"
   ]
  },
  {
   "cell_type": "code",
   "execution_count": 1,
   "metadata": {},
   "outputs": [],
   "source": [
    "import pandas as pd\n",
    "%matplotlib inline\n",
    "import matplotlib.pyplot as plt\n",
    "import numpy as np\n",
    "df = pd.read_csv('onlinepurchase.csv')"
   ]
  },
  {
   "cell_type": "markdown",
   "metadata": {},
   "source": [
    "#### 2. Analyze Data"
   ]
  },
  {
   "cell_type": "code",
   "execution_count": 2,
   "metadata": {},
   "outputs": [
    {
     "data": {
      "text/plain": [
       "(1022664, 9)"
      ]
     },
     "execution_count": 2,
     "metadata": {},
     "output_type": "execute_result"
    }
   ],
   "source": [
    "df.shape"
   ]
  },
  {
   "cell_type": "code",
   "execution_count": 3,
   "metadata": {},
   "outputs": [
    {
     "data": {
      "text/plain": [
       "Index(['Invoice', 'StockCode', 'Description', 'Quantity', 'Invoice_time',\n",
       "       'Price', 'CustomerID', 'Country', 'Purchase_dt'],\n",
       "      dtype='object')"
      ]
     },
     "execution_count": 3,
     "metadata": {},
     "output_type": "execute_result"
    }
   ],
   "source": [
    "df.columns"
   ]
  },
  {
   "cell_type": "code",
   "execution_count": 4,
   "metadata": {},
   "outputs": [
    {
     "data": {
      "text/plain": [
       "5887"
      ]
     },
     "execution_count": 4,
     "metadata": {},
     "output_type": "execute_result"
    }
   ],
   "source": [
    "df['CustomerID'].nunique()"
   ]
  },
  {
   "cell_type": "code",
   "execution_count": 5,
   "metadata": {},
   "outputs": [
    {
     "data": {
      "text/plain": [
       "5288"
      ]
     },
     "execution_count": 5,
     "metadata": {},
     "output_type": "execute_result"
    }
   ],
   "source": [
    "df['StockCode'].nunique()"
   ]
  },
  {
   "cell_type": "code",
   "execution_count": 6,
   "metadata": {},
   "outputs": [
    {
     "data": {
      "text/plain": [
       "array(['2010-01-04', '2010-01-05', '2010-01-06', '2010-01-07',\n",
       "       '2010-01-08', '2010-01-10', '2010-01-11', '2010-01-12',\n",
       "       '2010-01-13', '2010-01-14', '2010-01-15', '2010-01-17',\n",
       "       '2010-01-18', '2010-01-19', '2010-01-20', '2010-01-21',\n",
       "       '2010-01-22', '2010-01-24', '2010-01-25', '2010-01-26',\n",
       "       '2010-01-27', '2010-01-28', '2010-01-29', '2010-01-31',\n",
       "       '2010-02-01', '2010-02-02', '2010-02-03', '2010-02-04',\n",
       "       '2010-02-05', '2010-02-07', '2010-02-08', '2010-02-09',\n",
       "       '2010-02-10', '2010-02-11', '2010-02-12', '2010-02-14',\n",
       "       '2010-02-15', '2010-02-16', '2010-02-17', '2010-02-18',\n",
       "       '2010-02-19', '2010-02-21', '2010-02-22', '2010-02-23',\n",
       "       '2010-02-24', '2010-02-25', '2010-02-26', '2010-02-28',\n",
       "       '2010-03-01', '2010-03-02', '2010-03-03', '2010-03-04',\n",
       "       '2010-03-05', '2010-03-07', '2010-03-08', '2010-03-09',\n",
       "       '2010-03-10', '2010-03-11', '2010-03-12', '2010-03-14',\n",
       "       '2010-03-15', '2010-03-16', '2010-03-17', '2010-03-18',\n",
       "       '2010-03-19', '2010-03-21', '2010-03-22', '2010-03-23',\n",
       "       '2010-03-24', '2010-03-25', '2010-03-26', '2010-03-28',\n",
       "       '2010-03-29', '2010-03-30', '2010-03-31', '2010-04-01',\n",
       "       '2010-04-06', '2010-04-07', '2010-04-08', '2010-04-09',\n",
       "       '2010-04-11', '2010-04-12', '2010-04-13', '2010-04-14',\n",
       "       '2010-04-15', '2010-04-16', '2010-04-18', '2010-04-19',\n",
       "       '2010-04-20', '2010-04-21', '2010-04-22', '2010-04-23',\n",
       "       '2010-04-25', '2010-04-26', '2010-04-27', '2010-04-28',\n",
       "       '2010-04-29', '2010-04-30', '2010-05-02', '2010-05-04',\n",
       "       '2010-05-05', '2010-05-06', '2010-05-07', '2010-05-09',\n",
       "       '2010-05-10', '2010-05-11', '2010-05-12', '2010-05-13',\n",
       "       '2010-05-14', '2010-05-16', '2010-05-17', '2010-05-18',\n",
       "       '2010-05-19', '2010-05-20', '2010-05-21', '2010-05-23',\n",
       "       '2010-05-24', '2010-05-25', '2010-05-26', '2010-05-27',\n",
       "       '2010-05-28', '2010-05-30', '2010-06-01', '2010-06-02',\n",
       "       '2010-06-03', '2010-06-04', '2010-06-06', '2010-06-07',\n",
       "       '2010-06-08', '2010-06-09', '2010-06-10', '2010-06-11',\n",
       "       '2010-06-13', '2010-06-14', '2010-06-15', '2010-06-16',\n",
       "       '2010-06-17', '2010-06-18', '2010-06-20', '2010-06-21',\n",
       "       '2010-06-22', '2010-06-23', '2010-06-24', '2010-06-25',\n",
       "       '2010-06-27', '2010-06-28', '2010-06-29', '2010-06-30',\n",
       "       '2010-07-01', '2010-07-02', '2010-07-04', '2010-07-05',\n",
       "       '2010-07-06', '2010-07-07', '2010-07-08', '2010-07-09',\n",
       "       '2010-07-11', '2010-07-12', '2010-07-13', '2010-07-14',\n",
       "       '2010-07-15', '2010-07-16', '2010-07-18', '2010-07-19',\n",
       "       '2010-07-20', '2010-07-21', '2010-07-22', '2010-07-23',\n",
       "       '2010-07-25', '2010-07-26', '2010-07-27', '2010-07-28',\n",
       "       '2010-07-29', '2010-07-30', '2010-08-01', '2010-08-02',\n",
       "       '2010-08-03', '2010-08-04', '2010-08-05', '2010-08-06',\n",
       "       '2010-08-08', '2010-08-09', '2010-08-10', '2010-08-11',\n",
       "       '2010-08-12', '2010-08-13', '2010-08-15', '2010-08-16',\n",
       "       '2010-08-17', '2010-08-18', '2010-08-19', '2010-08-20',\n",
       "       '2010-08-22', '2010-08-23', '2010-08-24', '2010-08-25',\n",
       "       '2010-08-26', '2010-08-27', '2010-08-29', '2010-08-31',\n",
       "       '2010-09-01', '2010-09-02', '2010-09-03', '2010-09-05',\n",
       "       '2010-09-06', '2010-09-07', '2010-09-08', '2010-09-09',\n",
       "       '2010-09-10', '2010-09-12', '2010-09-13', '2010-09-14',\n",
       "       '2010-09-15', '2010-09-16', '2010-09-17', '2010-09-19',\n",
       "       '2010-09-20', '2010-09-21', '2010-09-22', '2010-09-23',\n",
       "       '2010-09-24', '2010-09-26', '2010-09-27', '2010-09-28',\n",
       "       '2010-09-29', '2010-09-30', '2010-10-01', '2010-10-03',\n",
       "       '2010-10-04', '2010-10-05', '2010-10-06', '2010-10-07',\n",
       "       '2010-10-08', '2010-10-10', '2010-10-11', '2010-10-12',\n",
       "       '2010-10-13', '2010-10-14', '2010-10-15', '2010-10-17',\n",
       "       '2010-10-18', '2010-10-19', '2010-10-20', '2010-10-21',\n",
       "       '2010-10-22', '2010-10-24', '2010-10-25', '2010-10-26',\n",
       "       '2010-10-27', '2010-10-28', '2010-10-29', '2010-10-31',\n",
       "       '2010-11-01', '2010-11-02', '2010-11-03', '2010-11-04',\n",
       "       '2010-11-05', '2010-11-07', '2010-11-08', '2010-11-09',\n",
       "       '2010-11-10', '2010-11-11', '2010-11-12', '2010-11-14',\n",
       "       '2010-11-15', '2010-11-16', '2010-11-17', '2010-11-18',\n",
       "       '2010-11-19', '2010-11-21', '2010-11-22', '2010-11-23',\n",
       "       '2010-11-24', '2010-11-25', '2010-11-26', '2010-11-28',\n",
       "       '2010-11-29', '2010-11-30', '2010-12-01', '2010-12-02',\n",
       "       '2010-12-03', '2010-12-05', '2010-12-06', '2010-12-07',\n",
       "       '2010-12-08', '2010-12-09', '2010-12-10', '2010-12-12',\n",
       "       '2010-12-13', '2010-12-14', '2010-12-15', '2010-12-16',\n",
       "       '2010-12-17', '2010-12-19', '2010-12-20', '2010-12-21',\n",
       "       '2010-12-22', '2010-12-23', '2011-01-04', '2011-01-05',\n",
       "       '2011-01-06', '2011-01-07', '2011-01-09', '2011-01-10',\n",
       "       '2011-01-11', '2011-01-12', '2011-01-13', '2011-01-14',\n",
       "       '2011-01-16', '2011-01-17', '2011-01-18', '2011-01-19',\n",
       "       '2011-01-20', '2011-01-21', '2011-01-23', '2011-01-24',\n",
       "       '2011-01-25', '2011-01-26', '2011-01-27', '2011-01-28',\n",
       "       '2011-01-30', '2011-01-31', '2011-02-01', '2011-02-02',\n",
       "       '2011-02-03', '2011-02-04', '2011-02-06', '2011-02-07',\n",
       "       '2011-02-08', '2011-02-09', '2011-02-10', '2011-02-11',\n",
       "       '2011-02-13', '2011-02-14', '2011-02-15', '2011-02-16',\n",
       "       '2011-02-17', '2011-02-18', '2011-02-20', '2011-02-21',\n",
       "       '2011-02-22', '2011-02-23', '2011-02-24', '2011-02-25',\n",
       "       '2011-02-27', '2011-02-28', '2011-03-01', '2011-03-02',\n",
       "       '2011-03-03', '2011-03-04', '2011-03-06', '2011-03-07',\n",
       "       '2011-03-08', '2011-03-09', '2011-03-10', '2011-03-11',\n",
       "       '2011-03-13', '2011-03-14', '2011-03-15', '2011-03-16',\n",
       "       '2011-03-17', '2011-03-18', '2011-03-20', '2011-03-21',\n",
       "       '2011-03-22', '2011-03-23', '2011-03-24', '2011-03-25',\n",
       "       '2011-03-27', '2011-03-28', '2011-03-29', '2011-03-30',\n",
       "       '2011-03-31', '2011-04-01', '2011-04-03', '2011-04-04',\n",
       "       '2011-04-05', '2011-04-06', '2011-04-07', '2011-04-08',\n",
       "       '2011-04-10', '2011-04-11', '2011-04-12', '2011-04-13',\n",
       "       '2011-04-14', '2011-04-15', '2011-04-17', '2011-04-18',\n",
       "       '2011-04-19', '2011-04-20', '2011-04-21', '2011-04-26',\n",
       "       '2011-04-27', '2011-04-28', '2011-05-01', '2011-05-03',\n",
       "       '2011-05-04', '2011-05-05', '2011-05-06', '2011-05-08',\n",
       "       '2011-05-09', '2011-05-10', '2011-05-11', '2011-05-12',\n",
       "       '2011-05-13', '2011-05-15', '2011-05-16', '2011-05-17',\n",
       "       '2011-05-18', '2011-05-19', '2011-05-20', '2011-05-22',\n",
       "       '2011-05-23', '2011-05-24', '2011-05-25', '2011-05-26',\n",
       "       '2011-05-27', '2011-05-29', '2011-05-31', '2011-06-01',\n",
       "       '2011-06-02', '2011-06-03', '2011-06-05', '2011-06-06',\n",
       "       '2011-06-07', '2011-06-08', '2011-06-09', '2011-06-10',\n",
       "       '2011-06-12', '2011-06-13', '2011-06-14', '2011-06-15',\n",
       "       '2011-06-16', '2011-06-17', '2011-06-19', '2011-06-20',\n",
       "       '2011-06-21', '2011-06-22', '2011-06-23', '2011-06-24',\n",
       "       '2011-06-26', '2011-06-27', '2011-06-28', '2011-06-29',\n",
       "       '2011-06-30', '2011-07-01', '2011-07-03', '2011-07-04',\n",
       "       '2011-07-05', '2011-07-06', '2011-07-07', '2011-07-08',\n",
       "       '2011-07-10', '2011-07-11', '2011-07-12', '2011-07-13',\n",
       "       '2011-07-14', '2011-07-15', '2011-07-17', '2011-07-18',\n",
       "       '2011-07-19', '2011-07-20', '2011-07-21', '2011-07-22',\n",
       "       '2011-07-24', '2011-07-25', '2011-07-26', '2011-07-27',\n",
       "       '2011-07-28', '2011-07-29', '2011-07-31', '2011-08-01',\n",
       "       '2011-08-02', '2011-08-03', '2011-08-04', '2011-08-05',\n",
       "       '2011-08-07', '2011-08-08', '2011-08-09', '2011-08-10',\n",
       "       '2011-08-11', '2011-08-12', '2011-08-14', '2011-08-15',\n",
       "       '2011-08-16', '2011-08-17', '2011-08-18', '2011-08-19',\n",
       "       '2011-08-21', '2011-08-22', '2011-08-23', '2011-08-24',\n",
       "       '2011-08-25', '2011-08-26', '2011-08-28', '2011-08-30',\n",
       "       '2011-08-31', '2011-09-01', '2011-09-02', '2011-09-04',\n",
       "       '2011-09-05', '2011-09-06', '2011-09-07', '2011-09-08',\n",
       "       '2011-09-09', '2011-09-11', '2011-09-12', '2011-09-13',\n",
       "       '2011-09-14', '2011-09-15', '2011-09-16', '2011-09-18',\n",
       "       '2011-09-19', '2011-09-20', '2011-09-21', '2011-09-22',\n",
       "       '2011-09-23', '2011-09-25', '2011-09-26', '2011-09-27',\n",
       "       '2011-09-28', '2011-09-29', '2011-09-30', '2011-10-02',\n",
       "       '2011-10-03', '2011-10-04', '2011-10-05', '2011-10-06',\n",
       "       '2011-10-07', '2011-10-09', '2011-10-10', '2011-10-11',\n",
       "       '2011-10-12', '2011-10-13', '2011-10-14', '2011-10-16',\n",
       "       '2011-10-17', '2011-10-18', '2011-10-19', '2011-10-20',\n",
       "       '2011-10-21', '2011-10-23', '2011-10-24', '2011-10-25',\n",
       "       '2011-10-26', '2011-10-27', '2011-10-28', '2011-10-30',\n",
       "       '2011-10-31', '2011-11-01', '2011-11-02', '2011-11-03',\n",
       "       '2011-11-04', '2011-11-06', '2011-11-07', '2011-11-08',\n",
       "       '2011-11-09', '2011-11-10', '2011-11-11', '2011-11-13',\n",
       "       '2011-11-14', '2011-11-15', '2011-11-16', '2011-11-17',\n",
       "       '2011-11-18', '2011-11-20', '2011-11-21', '2011-11-22',\n",
       "       '2011-11-23', '2011-11-24', '2011-11-25', '2011-11-27',\n",
       "       '2011-11-28', '2011-11-29', '2011-11-30', '2011-12-01',\n",
       "       '2011-12-02', '2011-12-04', '2011-12-05', '2011-12-06',\n",
       "       '2011-12-07', '2011-12-08', '2011-12-09', '2011-12-10',\n",
       "       '2011-12-11', '2011-12-13', '2011-12-14', '2011-12-15',\n",
       "       '2011-12-16', '2011-12-17', '2011-12-18', '2011-12-20',\n",
       "       '2011-12-21', '2011-12-22', '2011-12-23'], dtype=object)"
      ]
     },
     "execution_count": 6,
     "metadata": {},
     "output_type": "execute_result"
    }
   ],
   "source": [
    "df['Purchase_dt'].unique()"
   ]
  },
  {
   "cell_type": "code",
   "execution_count": 7,
   "metadata": {},
   "outputs": [
    {
     "data": {
      "text/plain": [
       "11585"
      ]
     },
     "execution_count": 7,
     "metadata": {},
     "output_type": "execute_result"
    }
   ],
   "source": [
    "df.duplicated().sum()"
   ]
  },
  {
   "cell_type": "code",
   "execution_count": 8,
   "metadata": {},
   "outputs": [
    {
     "data": {
      "text/plain": [
       "(1011079, 9)"
      ]
     },
     "execution_count": 8,
     "metadata": {},
     "output_type": "execute_result"
    }
   ],
   "source": [
    "df=df.drop_duplicates()\n",
    "df.shape"
   ]
  },
  {
   "cell_type": "code",
   "execution_count": 9,
   "metadata": {
    "scrolled": true
   },
   "outputs": [
    {
     "data": {
      "text/html": [
       "<div>\n",
       "<style scoped>\n",
       "    .dataframe tbody tr th:only-of-type {\n",
       "        vertical-align: middle;\n",
       "    }\n",
       "\n",
       "    .dataframe tbody tr th {\n",
       "        vertical-align: top;\n",
       "    }\n",
       "\n",
       "    .dataframe thead th {\n",
       "        text-align: right;\n",
       "    }\n",
       "</style>\n",
       "<table border=\"1\" class=\"dataframe\">\n",
       "  <thead>\n",
       "    <tr style=\"text-align: right;\">\n",
       "      <th></th>\n",
       "      <th>Invoice</th>\n",
       "      <th>StockCode</th>\n",
       "      <th>Description</th>\n",
       "      <th>Quantity</th>\n",
       "      <th>Invoice_time</th>\n",
       "      <th>Price</th>\n",
       "      <th>CustomerID</th>\n",
       "      <th>Country</th>\n",
       "      <th>Purchase_dt</th>\n",
       "    </tr>\n",
       "  </thead>\n",
       "  <tbody>\n",
       "    <tr>\n",
       "      <th>0</th>\n",
       "      <td>493410</td>\n",
       "      <td>TEST001</td>\n",
       "      <td>This is a test product.</td>\n",
       "      <td>5</td>\n",
       "      <td>2010-01-04 9:24</td>\n",
       "      <td>4.50</td>\n",
       "      <td>12346.0</td>\n",
       "      <td>United Kingdom</td>\n",
       "      <td>2010-01-04</td>\n",
       "    </tr>\n",
       "    <tr>\n",
       "      <th>1</th>\n",
       "      <td>C493411</td>\n",
       "      <td>21539</td>\n",
       "      <td>RETRO SPOTS BUTTER DISH</td>\n",
       "      <td>-1</td>\n",
       "      <td>2010-01-04 9:43</td>\n",
       "      <td>4.25</td>\n",
       "      <td>14590.0</td>\n",
       "      <td>United Kingdom</td>\n",
       "      <td>2010-01-04</td>\n",
       "    </tr>\n",
       "    <tr>\n",
       "      <th>2</th>\n",
       "      <td>493412</td>\n",
       "      <td>TEST001</td>\n",
       "      <td>This is a test product.</td>\n",
       "      <td>5</td>\n",
       "      <td>2010-01-04 9:53</td>\n",
       "      <td>4.50</td>\n",
       "      <td>12346.0</td>\n",
       "      <td>United Kingdom</td>\n",
       "      <td>2010-01-04</td>\n",
       "    </tr>\n",
       "    <tr>\n",
       "      <th>3</th>\n",
       "      <td>493413</td>\n",
       "      <td>21724</td>\n",
       "      <td>PANDA AND BUNNIES STICKER SHEET</td>\n",
       "      <td>1</td>\n",
       "      <td>2010-01-04 9:54</td>\n",
       "      <td>0.85</td>\n",
       "      <td>NaN</td>\n",
       "      <td>United Kingdom</td>\n",
       "      <td>2010-01-04</td>\n",
       "    </tr>\n",
       "    <tr>\n",
       "      <th>4</th>\n",
       "      <td>493413</td>\n",
       "      <td>84578</td>\n",
       "      <td>ELEPHANT TOY WITH BLUE T-SHIRT</td>\n",
       "      <td>1</td>\n",
       "      <td>2010-01-04 9:54</td>\n",
       "      <td>3.75</td>\n",
       "      <td>NaN</td>\n",
       "      <td>United Kingdom</td>\n",
       "      <td>2010-01-04</td>\n",
       "    </tr>\n",
       "    <tr>\n",
       "      <th>5</th>\n",
       "      <td>493413</td>\n",
       "      <td>21723</td>\n",
       "      <td>ALPHABET HEARTS STICKER SHEET</td>\n",
       "      <td>1</td>\n",
       "      <td>2010-01-04 9:54</td>\n",
       "      <td>0.85</td>\n",
       "      <td>NaN</td>\n",
       "      <td>United Kingdom</td>\n",
       "      <td>2010-01-04</td>\n",
       "    </tr>\n",
       "    <tr>\n",
       "      <th>6</th>\n",
       "      <td>493414</td>\n",
       "      <td>21844</td>\n",
       "      <td>RETRO SPOT MUG</td>\n",
       "      <td>36</td>\n",
       "      <td>2010-01-04 10:28</td>\n",
       "      <td>2.55</td>\n",
       "      <td>14590.0</td>\n",
       "      <td>United Kingdom</td>\n",
       "      <td>2010-01-04</td>\n",
       "    </tr>\n",
       "    <tr>\n",
       "      <th>7</th>\n",
       "      <td>493414</td>\n",
       "      <td>21533</td>\n",
       "      <td>RETRO SPOT LARGE MILK JUG</td>\n",
       "      <td>12</td>\n",
       "      <td>2010-01-04 10:28</td>\n",
       "      <td>4.25</td>\n",
       "      <td>14590.0</td>\n",
       "      <td>United Kingdom</td>\n",
       "      <td>2010-01-04</td>\n",
       "    </tr>\n",
       "    <tr>\n",
       "      <th>8</th>\n",
       "      <td>493414</td>\n",
       "      <td>37508</td>\n",
       "      <td>NEW ENGLAND CERAMIC CAKE SERVER</td>\n",
       "      <td>2</td>\n",
       "      <td>2010-01-04 10:28</td>\n",
       "      <td>2.55</td>\n",
       "      <td>14590.0</td>\n",
       "      <td>United Kingdom</td>\n",
       "      <td>2010-01-04</td>\n",
       "    </tr>\n",
       "    <tr>\n",
       "      <th>9</th>\n",
       "      <td>493414</td>\n",
       "      <td>35001G</td>\n",
       "      <td>HAND OPEN SHAPE GOLD</td>\n",
       "      <td>2</td>\n",
       "      <td>2010-01-04 10:28</td>\n",
       "      <td>4.25</td>\n",
       "      <td>14590.0</td>\n",
       "      <td>United Kingdom</td>\n",
       "      <td>2010-01-04</td>\n",
       "    </tr>\n",
       "    <tr>\n",
       "      <th>10</th>\n",
       "      <td>493414</td>\n",
       "      <td>21527</td>\n",
       "      <td>RETRO SPOT TRADITIONAL TEAPOT</td>\n",
       "      <td>12</td>\n",
       "      <td>2010-01-04 10:28</td>\n",
       "      <td>6.95</td>\n",
       "      <td>14590.0</td>\n",
       "      <td>United Kingdom</td>\n",
       "      <td>2010-01-04</td>\n",
       "    </tr>\n",
       "    <tr>\n",
       "      <th>11</th>\n",
       "      <td>493414</td>\n",
       "      <td>21531</td>\n",
       "      <td>RETRO SPOT SUGAR JAM BOWL</td>\n",
       "      <td>24</td>\n",
       "      <td>2010-01-04 10:28</td>\n",
       "      <td>2.10</td>\n",
       "      <td>14590.0</td>\n",
       "      <td>United Kingdom</td>\n",
       "      <td>2010-01-04</td>\n",
       "    </tr>\n",
       "    <tr>\n",
       "      <th>12</th>\n",
       "      <td>C493415</td>\n",
       "      <td>21527</td>\n",
       "      <td>RETRO SPOT TRADITIONAL TEAPOT</td>\n",
       "      <td>-3</td>\n",
       "      <td>2010-01-04 10:33</td>\n",
       "      <td>7.95</td>\n",
       "      <td>14590.0</td>\n",
       "      <td>United Kingdom</td>\n",
       "      <td>2010-01-04</td>\n",
       "    </tr>\n",
       "    <tr>\n",
       "      <th>13</th>\n",
       "      <td>C493426</td>\n",
       "      <td>22109</td>\n",
       "      <td>FULL ENGLISH BREAKFAST PLATE</td>\n",
       "      <td>-1</td>\n",
       "      <td>2010-01-04 10:41</td>\n",
       "      <td>3.39</td>\n",
       "      <td>16550.0</td>\n",
       "      <td>United Kingdom</td>\n",
       "      <td>2010-01-04</td>\n",
       "    </tr>\n",
       "    <tr>\n",
       "      <th>14</th>\n",
       "      <td>493427</td>\n",
       "      <td>82483</td>\n",
       "      <td>WOOD 2 DRAWER CABINET WHITE FINISH</td>\n",
       "      <td>4</td>\n",
       "      <td>2010-01-04 10:43</td>\n",
       "      <td>5.95</td>\n",
       "      <td>13287.0</td>\n",
       "      <td>United Kingdom</td>\n",
       "      <td>2010-01-04</td>\n",
       "    </tr>\n",
       "    <tr>\n",
       "      <th>15</th>\n",
       "      <td>493427</td>\n",
       "      <td>21681</td>\n",
       "      <td>GIANT MEDINA STAMPED METAL BOWL</td>\n",
       "      <td>2</td>\n",
       "      <td>2010-01-04 10:43</td>\n",
       "      <td>9.95</td>\n",
       "      <td>13287.0</td>\n",
       "      <td>United Kingdom</td>\n",
       "      <td>2010-01-04</td>\n",
       "    </tr>\n",
       "    <tr>\n",
       "      <th>16</th>\n",
       "      <td>493427</td>\n",
       "      <td>21682</td>\n",
       "      <td>LARGE MEDINA STAMPED METAL BOWL</td>\n",
       "      <td>4</td>\n",
       "      <td>2010-01-04 10:43</td>\n",
       "      <td>4.95</td>\n",
       "      <td>13287.0</td>\n",
       "      <td>United Kingdom</td>\n",
       "      <td>2010-01-04</td>\n",
       "    </tr>\n",
       "    <tr>\n",
       "      <th>17</th>\n",
       "      <td>493427</td>\n",
       "      <td>18096C</td>\n",
       "      <td>WHITE ROUND PORCELAIN TLIGHT HOLDER</td>\n",
       "      <td>6</td>\n",
       "      <td>2010-01-04 10:43</td>\n",
       "      <td>2.55</td>\n",
       "      <td>13287.0</td>\n",
       "      <td>United Kingdom</td>\n",
       "      <td>2010-01-04</td>\n",
       "    </tr>\n",
       "    <tr>\n",
       "      <th>18</th>\n",
       "      <td>493427</td>\n",
       "      <td>21577</td>\n",
       "      <td>SAVE THE PLANET COTTON TOTE BAG</td>\n",
       "      <td>6</td>\n",
       "      <td>2010-01-04 10:43</td>\n",
       "      <td>2.25</td>\n",
       "      <td>13287.0</td>\n",
       "      <td>United Kingdom</td>\n",
       "      <td>2010-01-04</td>\n",
       "    </tr>\n",
       "    <tr>\n",
       "      <th>19</th>\n",
       "      <td>493427</td>\n",
       "      <td>21576</td>\n",
       "      <td>LETS GO SHOPPING COTTON TOTE BAG</td>\n",
       "      <td>6</td>\n",
       "      <td>2010-01-04 10:43</td>\n",
       "      <td>2.25</td>\n",
       "      <td>13287.0</td>\n",
       "      <td>United Kingdom</td>\n",
       "      <td>2010-01-04</td>\n",
       "    </tr>\n",
       "  </tbody>\n",
       "</table>\n",
       "</div>"
      ],
      "text/plain": [
       "    Invoice StockCode                          Description  Quantity  \\\n",
       "0    493410   TEST001              This is a test product.         5   \n",
       "1   C493411     21539              RETRO SPOTS BUTTER DISH        -1   \n",
       "2    493412   TEST001              This is a test product.         5   \n",
       "3    493413     21724      PANDA AND BUNNIES STICKER SHEET         1   \n",
       "4    493413     84578       ELEPHANT TOY WITH BLUE T-SHIRT         1   \n",
       "5    493413     21723        ALPHABET HEARTS STICKER SHEET         1   \n",
       "6    493414     21844                       RETRO SPOT MUG        36   \n",
       "7    493414     21533            RETRO SPOT LARGE MILK JUG        12   \n",
       "8    493414     37508      NEW ENGLAND CERAMIC CAKE SERVER         2   \n",
       "9    493414    35001G                 HAND OPEN SHAPE GOLD         2   \n",
       "10   493414     21527       RETRO SPOT TRADITIONAL TEAPOT         12   \n",
       "11   493414     21531            RETRO SPOT SUGAR JAM BOWL        24   \n",
       "12  C493415     21527       RETRO SPOT TRADITIONAL TEAPOT         -3   \n",
       "13  C493426     22109         FULL ENGLISH BREAKFAST PLATE        -1   \n",
       "14   493427     82483   WOOD 2 DRAWER CABINET WHITE FINISH         4   \n",
       "15   493427     21681     GIANT MEDINA STAMPED METAL BOWL          2   \n",
       "16   493427     21682     LARGE MEDINA STAMPED METAL BOWL          4   \n",
       "17   493427    18096C  WHITE ROUND PORCELAIN TLIGHT HOLDER         6   \n",
       "18   493427     21577      SAVE THE PLANET COTTON TOTE BAG         6   \n",
       "19   493427     21576     LETS GO SHOPPING COTTON TOTE BAG         6   \n",
       "\n",
       "        Invoice_time  Price  CustomerID         Country Purchase_dt  \n",
       "0    2010-01-04 9:24   4.50     12346.0  United Kingdom  2010-01-04  \n",
       "1    2010-01-04 9:43   4.25     14590.0  United Kingdom  2010-01-04  \n",
       "2    2010-01-04 9:53   4.50     12346.0  United Kingdom  2010-01-04  \n",
       "3    2010-01-04 9:54   0.85         NaN  United Kingdom  2010-01-04  \n",
       "4    2010-01-04 9:54   3.75         NaN  United Kingdom  2010-01-04  \n",
       "5    2010-01-04 9:54   0.85         NaN  United Kingdom  2010-01-04  \n",
       "6   2010-01-04 10:28   2.55     14590.0  United Kingdom  2010-01-04  \n",
       "7   2010-01-04 10:28   4.25     14590.0  United Kingdom  2010-01-04  \n",
       "8   2010-01-04 10:28   2.55     14590.0  United Kingdom  2010-01-04  \n",
       "9   2010-01-04 10:28   4.25     14590.0  United Kingdom  2010-01-04  \n",
       "10  2010-01-04 10:28   6.95     14590.0  United Kingdom  2010-01-04  \n",
       "11  2010-01-04 10:28   2.10     14590.0  United Kingdom  2010-01-04  \n",
       "12  2010-01-04 10:33   7.95     14590.0  United Kingdom  2010-01-04  \n",
       "13  2010-01-04 10:41   3.39     16550.0  United Kingdom  2010-01-04  \n",
       "14  2010-01-04 10:43   5.95     13287.0  United Kingdom  2010-01-04  \n",
       "15  2010-01-04 10:43   9.95     13287.0  United Kingdom  2010-01-04  \n",
       "16  2010-01-04 10:43   4.95     13287.0  United Kingdom  2010-01-04  \n",
       "17  2010-01-04 10:43   2.55     13287.0  United Kingdom  2010-01-04  \n",
       "18  2010-01-04 10:43   2.25     13287.0  United Kingdom  2010-01-04  \n",
       "19  2010-01-04 10:43   2.25     13287.0  United Kingdom  2010-01-04  "
      ]
     },
     "execution_count": 9,
     "metadata": {},
     "output_type": "execute_result"
    }
   ],
   "source": [
    "df.head(20)"
   ]
  },
  {
   "cell_type": "code",
   "execution_count": 10,
   "metadata": {
    "scrolled": false
   },
   "outputs": [
    {
     "name": "stdout",
     "output_type": "stream",
     "text": [
      "<class 'pandas.core.frame.DataFrame'>\n",
      "Int64Index: 1011079 entries, 0 to 1022663\n",
      "Data columns (total 9 columns):\n",
      " #   Column        Non-Null Count    Dtype  \n",
      "---  ------        --------------    -----  \n",
      " 0   Invoice       1011079 non-null  object \n",
      " 1   StockCode     1011079 non-null  object \n",
      " 2   Description   1006851 non-null  object \n",
      " 3   Quantity      1011079 non-null  int64  \n",
      " 4   Invoice_time  1011079 non-null  object \n",
      " 5   Price         1011079 non-null  float64\n",
      " 6   CustomerID    781578 non-null   float64\n",
      " 7   Country       1011079 non-null  object \n",
      " 8   Purchase_dt   1011079 non-null  object \n",
      "dtypes: float64(2), int64(1), object(6)\n",
      "memory usage: 77.1+ MB\n"
     ]
    }
   ],
   "source": [
    "df.info()"
   ]
  },
  {
   "cell_type": "code",
   "execution_count": 11,
   "metadata": {},
   "outputs": [
    {
     "data": {
      "text/plain": [
       "count    1.011079e+06\n",
       "mean     1.010526e+01\n",
       "std      1.767742e+02\n",
       "min     -8.099500e+04\n",
       "25%      1.000000e+00\n",
       "50%      3.000000e+00\n",
       "75%      1.000000e+01\n",
       "max      8.099500e+04\n",
       "Name: Quantity, dtype: float64"
      ]
     },
     "execution_count": 11,
     "metadata": {},
     "output_type": "execute_result"
    }
   ],
   "source": [
    "df['Quantity'].describe()"
   ]
  },
  {
   "cell_type": "code",
   "execution_count": 12,
   "metadata": {},
   "outputs": [
    {
     "data": {
      "text/plain": [
       "United Kingdom          927374\n",
       "EIRE                     17454\n",
       "Germany                  17191\n",
       "France                   13827\n",
       "Netherlands               5041\n",
       "Spain                     3727\n",
       "Switzerland               3175\n",
       "Belgium                   3091\n",
       "Portugal                  2430\n",
       "Australia                 1868\n",
       "Channel Islands           1607\n",
       "Italy                     1502\n",
       "Sweden                    1359\n",
       "Norway                    1287\n",
       "Cyprus                    1125\n",
       "Finland                   1049\n",
       "Austria                    921\n",
       "Denmark                    794\n",
       "Unspecified                752\n",
       "Greece                     622\n",
       "Japan                      562\n",
       "USA                        534\n",
       "Poland                     505\n",
       "United Arab Emirates       500\n",
       "Israel                     368\n",
       "Hong Kong                  360\n",
       "Singapore                  346\n",
       "Malta                      299\n",
       "Canada                     228\n",
       "Iceland                    222\n",
       "RSA                        169\n",
       "Lithuania                  154\n",
       "Bahrain                    126\n",
       "Brazil                      94\n",
       "Thailand                    76\n",
       "Korea                       63\n",
       "European Community          61\n",
       "Lebanon                     58\n",
       "West Indies                 54\n",
       "Bermuda                     34\n",
       "Nigeria                     30\n",
       "Czech Republic              30\n",
       "Saudi Arabia                10\n",
       "Name: Country, dtype: int64"
      ]
     },
     "execution_count": 12,
     "metadata": {},
     "output_type": "execute_result"
    }
   ],
   "source": [
    "df['Country'].value_counts()"
   ]
  },
  {
   "cell_type": "code",
   "execution_count": 13,
   "metadata": {},
   "outputs": [
    {
     "data": {
      "text/plain": [
       "85123A    5496\n",
       "22423     4306\n",
       "85099B    4063\n",
       "21212     3135\n",
       "20725     3121\n",
       "          ... \n",
       "79057B       1\n",
       "21104        1\n",
       "84448        1\n",
       "20880        1\n",
       "35630B       1\n",
       "Name: StockCode, Length: 5288, dtype: int64"
      ]
     },
     "execution_count": 13,
     "metadata": {},
     "output_type": "execute_result"
    }
   ],
   "source": [
    "df['StockCode'].value_counts()"
   ]
  },
  {
   "cell_type": "markdown",
   "metadata": {},
   "source": [
    "We found that：\n",
    "    - Quantity has negative numbers\n",
    "    - Description has null, there are test products in the Dataset\n",
    "    - CustomerID has null\n",
    "    - Most purchase are from UK"
   ]
  },
  {
   "cell_type": "markdown",
   "metadata": {},
   "source": [
    "#### 3. Clean Data"
   ]
  },
  {
   "cell_type": "markdown",
   "metadata": {},
   "source": [
    "- Delete Negative Quantity\n",
    "- Delete null CustomerID\n",
    "- Delete null Description\n",
    "- Delete Description include 'a test product'\n",
    "- Select Country with only United Kingdom"
   ]
  },
  {
   "cell_type": "code",
   "execution_count": 14,
   "metadata": {},
   "outputs": [],
   "source": [
    "df = df.loc[df['Quantity'] > 0]"
   ]
  },
  {
   "cell_type": "code",
   "execution_count": 15,
   "metadata": {},
   "outputs": [
    {
     "data": {
      "text/plain": [
       "225439"
      ]
     },
     "execution_count": 15,
     "metadata": {},
     "output_type": "execute_result"
    }
   ],
   "source": [
    "df['CustomerID'].isnull().sum()"
   ]
  },
  {
   "cell_type": "code",
   "execution_count": 16,
   "metadata": {},
   "outputs": [
    {
     "data": {
      "text/html": [
       "<div>\n",
       "<style scoped>\n",
       "    .dataframe tbody tr th:only-of-type {\n",
       "        vertical-align: middle;\n",
       "    }\n",
       "\n",
       "    .dataframe tbody tr th {\n",
       "        vertical-align: top;\n",
       "    }\n",
       "\n",
       "    .dataframe thead th {\n",
       "        text-align: right;\n",
       "    }\n",
       "</style>\n",
       "<table border=\"1\" class=\"dataframe\">\n",
       "  <thead>\n",
       "    <tr style=\"text-align: right;\">\n",
       "      <th></th>\n",
       "      <th>Invoice</th>\n",
       "      <th>StockCode</th>\n",
       "      <th>Description</th>\n",
       "      <th>Quantity</th>\n",
       "      <th>Invoice_time</th>\n",
       "      <th>Price</th>\n",
       "      <th>CustomerID</th>\n",
       "      <th>Country</th>\n",
       "      <th>Purchase_dt</th>\n",
       "    </tr>\n",
       "  </thead>\n",
       "  <tbody>\n",
       "    <tr>\n",
       "      <th>3</th>\n",
       "      <td>493413</td>\n",
       "      <td>21724</td>\n",
       "      <td>PANDA AND BUNNIES STICKER SHEET</td>\n",
       "      <td>1</td>\n",
       "      <td>2010-01-04 9:54</td>\n",
       "      <td>0.85</td>\n",
       "      <td>NaN</td>\n",
       "      <td>United Kingdom</td>\n",
       "      <td>2010-01-04</td>\n",
       "    </tr>\n",
       "    <tr>\n",
       "      <th>4</th>\n",
       "      <td>493413</td>\n",
       "      <td>84578</td>\n",
       "      <td>ELEPHANT TOY WITH BLUE T-SHIRT</td>\n",
       "      <td>1</td>\n",
       "      <td>2010-01-04 9:54</td>\n",
       "      <td>3.75</td>\n",
       "      <td>NaN</td>\n",
       "      <td>United Kingdom</td>\n",
       "      <td>2010-01-04</td>\n",
       "    </tr>\n",
       "    <tr>\n",
       "      <th>5</th>\n",
       "      <td>493413</td>\n",
       "      <td>21723</td>\n",
       "      <td>ALPHABET HEARTS STICKER SHEET</td>\n",
       "      <td>1</td>\n",
       "      <td>2010-01-04 9:54</td>\n",
       "      <td>0.85</td>\n",
       "      <td>NaN</td>\n",
       "      <td>United Kingdom</td>\n",
       "      <td>2010-01-04</td>\n",
       "    </tr>\n",
       "    <tr>\n",
       "      <th>482</th>\n",
       "      <td>493485</td>\n",
       "      <td>72008</td>\n",
       "      <td>FROSTED BOX 9 WHITE T-LIGHT CANDLES</td>\n",
       "      <td>24</td>\n",
       "      <td>2010-01-04 14:48</td>\n",
       "      <td>0.42</td>\n",
       "      <td>NaN</td>\n",
       "      <td>United Kingdom</td>\n",
       "      <td>2010-01-04</td>\n",
       "    </tr>\n",
       "    <tr>\n",
       "      <th>483</th>\n",
       "      <td>493485</td>\n",
       "      <td>21589</td>\n",
       "      <td>SWALLOW GIANT TUBE MATCHES</td>\n",
       "      <td>2</td>\n",
       "      <td>2010-01-04 14:48</td>\n",
       "      <td>2.55</td>\n",
       "      <td>NaN</td>\n",
       "      <td>United Kingdom</td>\n",
       "      <td>2010-01-04</td>\n",
       "    </tr>\n",
       "  </tbody>\n",
       "</table>\n",
       "</div>"
      ],
      "text/plain": [
       "    Invoice StockCode                          Description  Quantity  \\\n",
       "3    493413     21724      PANDA AND BUNNIES STICKER SHEET         1   \n",
       "4    493413     84578       ELEPHANT TOY WITH BLUE T-SHIRT         1   \n",
       "5    493413     21723        ALPHABET HEARTS STICKER SHEET         1   \n",
       "482  493485     72008  FROSTED BOX 9 WHITE T-LIGHT CANDLES        24   \n",
       "483  493485     21589           SWALLOW GIANT TUBE MATCHES         2   \n",
       "\n",
       "         Invoice_time  Price  CustomerID         Country Purchase_dt  \n",
       "3     2010-01-04 9:54   0.85         NaN  United Kingdom  2010-01-04  \n",
       "4     2010-01-04 9:54   3.75         NaN  United Kingdom  2010-01-04  \n",
       "5     2010-01-04 9:54   0.85         NaN  United Kingdom  2010-01-04  \n",
       "482  2010-01-04 14:48   0.42         NaN  United Kingdom  2010-01-04  \n",
       "483  2010-01-04 14:48   2.55         NaN  United Kingdom  2010-01-04  "
      ]
     },
     "execution_count": 16,
     "metadata": {},
     "output_type": "execute_result"
    }
   ],
   "source": [
    "df[df['CustomerID'].isnull()].head()"
   ]
  },
  {
   "cell_type": "markdown",
   "metadata": {},
   "source": [
    "Drop NA:"
   ]
  },
  {
   "cell_type": "code",
   "execution_count": 17,
   "metadata": {},
   "outputs": [],
   "source": [
    "df = df.dropna(subset=['CustomerID'])"
   ]
  },
  {
   "cell_type": "code",
   "execution_count": 18,
   "metadata": {},
   "outputs": [],
   "source": [
    "df = df.dropna(subset=['Description'])"
   ]
  },
  {
   "cell_type": "code",
   "execution_count": 19,
   "metadata": {},
   "outputs": [
    {
     "name": "stdout",
     "output_type": "stream",
     "text": [
      "<class 'pandas.core.frame.DataFrame'>\n",
      "Int64Index: 763716 entries, 0 to 1022663\n",
      "Data columns (total 9 columns):\n",
      " #   Column        Non-Null Count   Dtype  \n",
      "---  ------        --------------   -----  \n",
      " 0   Invoice       763716 non-null  object \n",
      " 1   StockCode     763716 non-null  object \n",
      " 2   Description   763716 non-null  object \n",
      " 3   Quantity      763716 non-null  int64  \n",
      " 4   Invoice_time  763716 non-null  object \n",
      " 5   Price         763716 non-null  float64\n",
      " 6   CustomerID    763716 non-null  float64\n",
      " 7   Country       763716 non-null  object \n",
      " 8   Purchase_dt   763716 non-null  object \n",
      "dtypes: float64(2), int64(1), object(6)\n",
      "memory usage: 58.3+ MB\n"
     ]
    }
   ],
   "source": [
    "df.info()"
   ]
  },
  {
   "cell_type": "code",
   "execution_count": 20,
   "metadata": {},
   "outputs": [
    {
     "data": {
      "text/plain": [
       "12"
      ]
     },
     "execution_count": 20,
     "metadata": {},
     "output_type": "execute_result"
    }
   ],
   "source": [
    "df['Description'].str.contains('a test product').sum()"
   ]
  },
  {
   "cell_type": "code",
   "execution_count": 21,
   "metadata": {},
   "outputs": [],
   "source": [
    "df = df.loc[~df['Description'].str.contains('a test product')]"
   ]
  },
  {
   "cell_type": "code",
   "execution_count": 22,
   "metadata": {},
   "outputs": [],
   "source": [
    "df = df.loc[df['Country'] == 'United Kingdom']"
   ]
  },
  {
   "cell_type": "code",
   "execution_count": 23,
   "metadata": {},
   "outputs": [
    {
     "data": {
      "text/plain": [
       "United Kingdom    685559\n",
       "Name: Country, dtype: int64"
      ]
     },
     "execution_count": 23,
     "metadata": {},
     "output_type": "execute_result"
    }
   ],
   "source": [
    "df['Country'].value_counts()"
   ]
  },
  {
   "cell_type": "code",
   "execution_count": 24,
   "metadata": {},
   "outputs": [
    {
     "name": "stdout",
     "output_type": "stream",
     "text": [
      "<class 'pandas.core.frame.DataFrame'>\n",
      "Int64Index: 685559 entries, 6 to 1022663\n",
      "Data columns (total 9 columns):\n",
      " #   Column        Non-Null Count   Dtype  \n",
      "---  ------        --------------   -----  \n",
      " 0   Invoice       685559 non-null  object \n",
      " 1   StockCode     685559 non-null  object \n",
      " 2   Description   685559 non-null  object \n",
      " 3   Quantity      685559 non-null  int64  \n",
      " 4   Invoice_time  685559 non-null  object \n",
      " 5   Price         685559 non-null  float64\n",
      " 6   CustomerID    685559 non-null  float64\n",
      " 7   Country       685559 non-null  object \n",
      " 8   Purchase_dt   685559 non-null  object \n",
      "dtypes: float64(2), int64(1), object(6)\n",
      "memory usage: 52.3+ MB\n"
     ]
    }
   ],
   "source": [
    "df.info()"
   ]
  },
  {
   "cell_type": "code",
   "execution_count": null,
   "metadata": {},
   "outputs": [],
   "source": [
    "df.to_csv('onlinepurchase_clean.csv', sep='|', index=False)"
   ]
  },
  {
   "cell_type": "markdown",
   "metadata": {},
   "source": [
    "#### 4. Create user-to-item matrix"
   ]
  },
  {
   "cell_type": "code",
   "execution_count": null,
   "metadata": {},
   "outputs": [],
   "source": [
    "customer_item_matrix = df.pivot_table(\n",
    "    index='CustomerID', \n",
    "    columns='StockCode', \n",
    "    values='Quantity',\n",
    "    aggfunc='sum'\n",
    ")"
   ]
  },
  {
   "cell_type": "code",
   "execution_count": null,
   "metadata": {},
   "outputs": [],
   "source": [
    "customer_item_matrix.head(20)"
   ]
  },
  {
   "cell_type": "code",
   "execution_count": null,
   "metadata": {},
   "outputs": [],
   "source": [
    "customer_item_matrix = customer_item_matrix.applymap(lambda x: 1 if x > 0 else 0)"
   ]
  },
  {
   "cell_type": "code",
   "execution_count": null,
   "metadata": {},
   "outputs": [],
   "source": [
    "customer_item_matrix.head(20)"
   ]
  },
  {
   "cell_type": "markdown",
   "metadata": {},
   "source": [
    "#### 5. Create Collaborative filtering Porduct Recommendation"
   ]
  },
  {
   "cell_type": "markdown",
   "metadata": {},
   "source": [
    "Use cosine_similarity in scikit-learn to calculate similarity"
   ]
  },
  {
   "cell_type": "code",
   "execution_count": null,
   "metadata": {},
   "outputs": [],
   "source": [
    "from sklearn.metrics.pairwise import cosine_similarity"
   ]
  },
  {
   "cell_type": "code",
   "execution_count": null,
   "metadata": {},
   "outputs": [],
   "source": [
    "user_user_sim_matrix = pd.DataFrame(cosine_similarity(customer_item_matrix))"
   ]
  },
  {
   "cell_type": "code",
   "execution_count": null,
   "metadata": {},
   "outputs": [],
   "source": [
    "user_user_sim_matrix.head()"
   ]
  },
  {
   "cell_type": "code",
   "execution_count": null,
   "metadata": {},
   "outputs": [],
   "source": [
    "user_user_sim_matrix.columns"
   ]
  },
  {
   "cell_type": "code",
   "execution_count": null,
   "metadata": {},
   "outputs": [],
   "source": [
    "user_user_sim_matrix.index"
   ]
  },
  {
   "cell_type": "code",
   "execution_count": null,
   "metadata": {},
   "outputs": [],
   "source": [
    "customer_item_matrix.index"
   ]
  },
  {
   "cell_type": "code",
   "execution_count": null,
   "metadata": {},
   "outputs": [],
   "source": [
    "user_user_sim_matrix.columns = customer_item_matrix.index"
   ]
  },
  {
   "cell_type": "code",
   "execution_count": null,
   "metadata": {},
   "outputs": [],
   "source": [
    "user_user_sim_matrix.head()"
   ]
  },
  {
   "cell_type": "code",
   "execution_count": null,
   "metadata": {},
   "outputs": [],
   "source": [
    "user_user_sim_matrix.index = customer_item_matrix.index"
   ]
  },
  {
   "cell_type": "code",
   "execution_count": null,
   "metadata": {},
   "outputs": [],
   "source": [
    "user_user_sim_matrix.head()"
   ]
  },
  {
   "cell_type": "markdown",
   "metadata": {},
   "source": [
    "#### 6. Generate recommended product list"
   ]
  },
  {
   "cell_type": "markdown",
   "metadata": {},
   "source": [
    "According to the last user-to-user matrix:\n",
    "\n",
    "The similarity of the same user is 1\n",
    "The similarity between user 12346 and user 12747 is 0.044721; the similarity between user 12748 and user 12346 is 0.058652.\n",
    "\n",
    "Thus user 12748 is more similar to user 12346 than user 12747"
   ]
  },
  {
   "cell_type": "code",
   "execution_count": null,
   "metadata": {
    "scrolled": true
   },
   "outputs": [],
   "source": [
    "user_user_sim_matrix.head()"
   ]
  },
  {
   "cell_type": "markdown",
   "metadata": {},
   "source": [
    "Take a single user (12346.0) as an example:\n",
    "\n",
    "-First, sort the user's relevance to other users (including the user), from largest to smallest (using .loc[row index]\n",
    "\n",
    "-Find the most similar other users, here is 17374.0"
   ]
  },
  {
   "cell_type": "code",
   "execution_count": null,
   "metadata": {
    "scrolled": true
   },
   "outputs": [],
   "source": [
    "user_user_sim_matrix.loc[12346.0].sort_values(ascending=False)"
   ]
  },
  {
   "cell_type": "code",
   "execution_count": null,
   "metadata": {},
   "outputs": [],
   "source": [
    "customer_item_matrix.head()"
   ]
  },
  {
   "cell_type": "code",
   "execution_count": null,
   "metadata": {},
   "outputs": [],
   "source": [
    "customer_item_matrix.loc[12346.0]"
   ]
  },
  {
   "cell_type": "code",
   "execution_count": null,
   "metadata": {},
   "outputs": [],
   "source": [
    "customer_item_matrix.loc[12346.0].to_numpy().nonzero()"
   ]
  },
  {
   "cell_type": "code",
   "execution_count": null,
   "metadata": {},
   "outputs": [],
   "source": [
    "len(customer_item_matrix.loc[12346.0].to_numpy().nonzero())"
   ]
  },
  {
   "cell_type": "code",
   "execution_count": null,
   "metadata": {},
   "outputs": [],
   "source": [
    "customer_item_matrix.loc[12346.0].to_numpy().nonzero()[0]"
   ]
  },
  {
   "cell_type": "code",
   "execution_count": null,
   "metadata": {},
   "outputs": [],
   "source": [
    "customer_item_matrix.loc[12346.0].iloc[customer_item_matrix.loc[12346.0].to_numpy().nonzero()[0]]"
   ]
  },
  {
   "cell_type": "code",
   "execution_count": null,
   "metadata": {},
   "outputs": [],
   "source": [
    "customer_item_matrix.loc[12346.0].iloc[customer_item_matrix.loc[12346.0].to_numpy().nonzero()[0]].index"
   ]
  },
  {
   "cell_type": "code",
   "execution_count": null,
   "metadata": {},
   "outputs": [],
   "source": [
    "items_bought_by_12346 = set(customer_item_matrix.loc[12346.0].iloc[\n",
    "    customer_item_matrix.loc[12346.0].to_numpy().nonzero()[0]].index) \n",
    "print(items_bought_by_12346)"
   ]
  },
  {
   "cell_type": "code",
   "execution_count": null,
   "metadata": {},
   "outputs": [],
   "source": [
    "items_bought_by_17374 = set(customer_item_matrix.loc[17374.0].iloc[\n",
    "    customer_item_matrix.loc[17374.0].to_numpy().nonzero()[0]\n",
    "].index)\n",
    "items_bought_by_17374"
   ]
  },
  {
   "cell_type": "markdown",
   "metadata": {},
   "source": [
    "-Before recommending, clarify who is recommended\n",
    "\n",
    "-Here we use 12346.0 as the recommended target, and recommend user 17374.0 to buy items, but user 12346.0 has not purchased\n",
    "\n",
    "-The final recommended product is obtained by subtracting the two purchase record sets obtained in the previous step"
   ]
  },
  {
   "cell_type": "code",
   "execution_count": null,
   "metadata": {},
   "outputs": [],
   "source": [
    "items_to_recommend_to_12346 = items_bought_by_17374 - items_bought_by_12346\n",
    "items_to_recommend_to_12346"
   ]
  },
  {
   "cell_type": "markdown",
   "metadata": {},
   "source": [
    "-Finally, generate a description of the recommended product"
   ]
  },
  {
   "cell_type": "code",
   "execution_count": null,
   "metadata": {},
   "outputs": [],
   "source": [
    "df.loc[df['StockCode'].isin(items_to_recommend_to_12346)][['StockCode', 'Description']]"
   ]
  },
  {
   "cell_type": "code",
   "execution_count": null,
   "metadata": {},
   "outputs": [],
   "source": [
    "df.loc[df['StockCode'].isin(items_to_recommend_to_12346)][['StockCode', 'Description']].drop_duplicates()"
   ]
  },
  {
   "cell_type": "markdown",
   "metadata": {},
   "source": [
    "#### 7. Streamline recommendation process"
   ]
  },
  {
   "cell_type": "code",
   "execution_count": null,
   "metadata": {},
   "outputs": [],
   "source": [
    "from sklearn.metrics.pairwise import cosine_similarity\n",
    "\n",
    "def get_user_user_sim_matrix(customer_item_matrix):\n",
    "    \n",
    "    \"\"\"\n",
    "    \n",
    "    Arguments:\n",
    "    customer_item_matrix(a Pandas DataFrame with customer as row index and item as column)\n",
    "    \n",
    "    Returns:\n",
    "    user_user_sim_matrix, a Pandas DataFrame with customer as row index and column header, value is the cosine similarity)\n",
    "    \"\"\"\n",
    "    \n",
    "    user_user_sim_matrix = pd.DataFrame(cosine_similarity(customer_item_matrix))\n",
    "    user_user_sim_matrix.columns = customer_item_matrix.index\n",
    "    user_user_sim_matrix.index = customer_item_matrix.index\n",
    "    \n",
    "    return user_user_sim_matrix    "
   ]
  },
  {
   "cell_type": "code",
   "execution_count": null,
   "metadata": {},
   "outputs": [],
   "source": [
    "customer_item_matrix.head()"
   ]
  },
  {
   "cell_type": "code",
   "execution_count": null,
   "metadata": {},
   "outputs": [],
   "source": [
    "user_user_sim_matrix = get_user_user_sim_matrix(customer_item_matrix)"
   ]
  },
  {
   "cell_type": "code",
   "execution_count": null,
   "metadata": {},
   "outputs": [],
   "source": [
    "user_user_sim_matrix.head()"
   ]
  },
  {
   "cell_type": "code",
   "execution_count": null,
   "metadata": {},
   "outputs": [],
   "source": [
    "def get_recommendations(target_id, user_user_sim_matrix, customer_item_matrix):\n",
    "    \n",
    "    \"\"\"\n",
    "    \n",
    "    Arguments:\n",
    "    target_id, user_user_sim_matrix, customer_item_matrix\n",
    "    \n",
    "    Returns:\n",
    "    recommend_df, a Pandas DataFrame with target_id, sim_userid, cos_value and recommend_prod\n",
    "    \"\"\"\n",
    "        \n",
    "    sim_rank = user_user_sim_matrix.loc[target_id].sort_values(ascending=False)\n",
    "    \n",
    "    sim_userid = sim_rank.index[1]\n",
    "    cos_value = sim_rank.iloc[1]\n",
    "    \n",
    "    items_bought_by_target_id = set(customer_item_matrix.loc[target_id].iloc[\n",
    "    customer_item_matrix.loc[target_id].nonzero()[0]].index) \n",
    "    \n",
    "    items_bought_by_sim_userid = set(customer_item_matrix.loc[sim_userid].iloc[\n",
    "    customer_item_matrix.loc[sim_userid].nonzero()[0]].index) \n",
    "    \n",
    "    items_to_recommend_to_target_id = items_bought_by_sim_userid - items_bought_by_target_id\n",
    "    \n",
    "    recommend_df = pd.DataFrame(columns=['target_id', 'sim_userid', 'cos_value'], index=range(len(items_to_recommend_to_target_id)))\n",
    "    \n",
    "    recommend_df['target_id'] = target_id\n",
    "    recommend_df['sim_userid'] = sim_userid\n",
    "    recommend_df['cos_value'] = cos_value\n",
    "\n",
    "    recommend_df['recommend_prod'] = list(items_to_recommend_to_target_id)\n",
    "    \n",
    "    return recommend_df"
   ]
  },
  {
   "cell_type": "code",
   "execution_count": null,
   "metadata": {},
   "outputs": [],
   "source": [
    "get_recommendations(12746.0, user_user_sim_matrix, customer_item_matrix)"
   ]
  }
 ],
 "metadata": {
  "kernelspec": {
   "display_name": "Python 3",
   "language": "python",
   "name": "python3"
  },
  "language_info": {
   "codemirror_mode": {
    "name": "ipython",
    "version": 3
   },
   "file_extension": ".py",
   "mimetype": "text/x-python",
   "name": "python",
   "nbconvert_exporter": "python",
   "pygments_lexer": "ipython3",
   "version": "3.8.3"
  }
 },
 "nbformat": 4,
 "nbformat_minor": 2
}
